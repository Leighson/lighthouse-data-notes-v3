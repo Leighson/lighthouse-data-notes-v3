{
 "cells": [
  {
   "cell_type": "markdown",
   "metadata": {},
   "source": [
    "# Fundamentals"
   ]
  },
  {
   "cell_type": "code",
   "execution_count": 48,
   "metadata": {},
   "outputs": [
    {
     "data": {
      "text/plain": [
       "'/opt/homebrew/Caskroom/miniforge/base/envs/main-dev/bin/python'"
      ]
     },
     "execution_count": 48,
     "metadata": {},
     "output_type": "execute_result"
    }
   ],
   "source": [
    "import numpy as np\n",
    "import pandas as pd\n",
    "import sys\n",
    "\n",
    "sys.executable"
   ]
  },
  {
   "cell_type": "markdown",
   "metadata": {},
   "source": [
    "## `sed` command\n",
    "\n",
    "`sed` is a text *viewer* and *editor*. It can replace viewing options in the terminal, such as `head`, `tail`, and `cat`.\n",
    "\n",
    "```bash\n",
    "\n",
    "sed \"/s<text-to-replace>/<text-to-insert>/gip\" <filename.text>\n",
    "\n",
    "## `/s` substitutes some text with another\n",
    "## `/gip` tells the terminal to:\n",
    "#### <g> search globally rather than stop at the first instance of the substitution,\n",
    "#### <i> perform a case-insensitive search, and\n",
    "#### <p> print the results to terminal\n",
    "```"
   ]
  },
  {
   "cell_type": "markdown",
   "metadata": {},
   "source": [
    "## Python"
   ]
  },
  {
   "cell_type": "markdown",
   "metadata": {},
   "source": [
    "### `set`\n",
    "\n",
    "`set`s are immutable data types that behave similarly to mathematical sets.\n",
    "- unordered\n",
    "- elements are unique; duplicates are disallowed\n",
    "- may be modified but its elements must be immutable"
   ]
  },
  {
   "cell_type": "code",
   "execution_count": 49,
   "metadata": {},
   "outputs": [
    {
     "name": "stdout",
     "output_type": "stream",
     "text": [
      "3\n",
      "True\n",
      "False\n"
     ]
    }
   ],
   "source": [
    "# example set\n",
    "x = {'foo', 'bar', 'baz'}\n",
    "\n",
    "# set size\n",
    "print(len(x))\n",
    "\n",
    "# set membership\n",
    "print('bar' in x)\n",
    "print('qux' in x)"
   ]
  },
  {
   "cell_type": "markdown",
   "metadata": {},
   "source": [
    "#### Operators & Methods\n",
    "\n",
    "Operators and methods differ in that operators can only be used on sets. On the other hand, methods can take an immutable data type as an argument and automatically convert it to a set before applying the method. Using an operator on a non-set will result in a `TypeError`."
   ]
  },
  {
   "cell_type": "code",
   "execution_count": 50,
   "metadata": {},
   "outputs": [
    {
     "name": "stdout",
     "output_type": "stream",
     "text": [
      "{'baz', 'bar', 'qux', 'foo', 'quux'}\n",
      "{'baz'}\n",
      "{'foo', 'bar'}\n",
      "{'baz', 'bar', 'qux', 'foo', 'quux'}\n",
      "{'baz'}\n",
      "{'foo', 'bar'}\n"
     ]
    }
   ],
   "source": [
    "# example sets\n",
    "x1 = {'foo', 'bar', 'baz'}\n",
    "x2 = {'baz', 'qux', 'quux'}\n",
    "\n",
    "# operators\n",
    "print(x1 | x2)\n",
    "print(x1 & x2)\n",
    "print(x1 - x2)\n",
    "\n",
    "# methods\n",
    "print(x1.union(x2))\n",
    "print(x1.intersection(x2))\n",
    "print(x1.difference(x2))"
   ]
  },
  {
   "cell_type": "markdown",
   "metadata": {},
   "source": [
    "### Copy, Shallow Copy, & Deep Copy\n",
    "\n",
    "**Copy**: the `=` operator creates a reference of the object being copied."
   ]
  },
  {
   "cell_type": "code",
   "execution_count": 51,
   "metadata": {},
   "outputs": [],
   "source": [
    "import copy"
   ]
  },
  {
   "cell_type": "code",
   "execution_count": 52,
   "metadata": {},
   "outputs": [
    {
     "name": "stdout",
     "output_type": "stream",
     "text": [
      "Old List: [[1, 2, 3], [4, 5, 6], [7, 8, 9]]\n",
      "ID of Old List: 6305819328\n",
      "New List: [[1, 2, 3], [4, 5, 6], [7, 8, 9]]\n",
      "ID of New List: 6305819328\n"
     ]
    }
   ],
   "source": [
    "old_list = [[1, 2, 3], [4, 5, 6], [7, 8, 'a']]\n",
    "new_list = old_list\n",
    "\n",
    "new_list[2][2] = 9\n",
    "\n",
    "print('Old List:', old_list)\n",
    "print('ID of Old List:', id(old_list))\n",
    "\n",
    "print('New List:', new_list)\n",
    "print('ID of New List:', id(new_list))"
   ]
  },
  {
   "cell_type": "markdown",
   "metadata": {},
   "source": [
    "**Shallow Copy**: the `copy.copy()` method copies the object but recursively references the objects within."
   ]
  },
  {
   "cell_type": "code",
   "execution_count": 53,
   "metadata": {},
   "outputs": [
    {
     "name": "stdout",
     "output_type": "stream",
     "text": [
      "Old list: [[1, 1, 1], [2, 2, 2], [3, 3, 3], [4, 4, 4]]\n",
      "New list: [[1, 1, 1], [2, 2, 2], [3, 3, 3]]\n",
      "Old list: [[1, 1, 1], [2, 'AA', 2], [3, 3, 3], [4, 4, 4]]\n",
      "New list: [[1, 1, 1], [2, 'AA', 2], [3, 3, 3]]\n"
     ]
    }
   ],
   "source": [
    "old_list = [[1, 1, 1], [2, 2, 2], [3, 3, 3]]\n",
    "new_list = copy.copy(old_list)\n",
    "\n",
    "# appending a new nested object\n",
    "old_list.append([4, 4, 4])\n",
    "\n",
    "print(\"Old list:\", old_list)\n",
    "print(\"New list:\", new_list)\n",
    "\n",
    "# changing a nested object\n",
    "old_list[1][1] = 'AA'\n",
    "\n",
    "print(\"Old list:\", old_list)\n",
    "print(\"New list:\", new_list)"
   ]
  },
  {
   "cell_type": "markdown",
   "metadata": {},
   "source": [
    "\n",
    "**Deep Copy**: the `copy.deepcopy()` method copies the object and all nested objects recursively."
   ]
  },
  {
   "cell_type": "code",
   "execution_count": 54,
   "metadata": {},
   "outputs": [
    {
     "name": "stdout",
     "output_type": "stream",
     "text": [
      "Old list: [[1, 1, 1], ['BB', 2, 2], [3, 3, 3]]\n",
      "New list: [[1, 1, 1], [2, 2, 2], [3, 3, 3]]\n"
     ]
    }
   ],
   "source": [
    "old_list = [[1, 1, 1], [2, 2, 2], [3, 3, 3]]\n",
    "new_list = copy.deepcopy(old_list)\n",
    "\n",
    "# changing a nested object\n",
    "old_list[1][0] = 'BB'\n",
    "\n",
    "print(\"Old list:\", old_list)\n",
    "print(\"New list:\", new_list)"
   ]
  },
  {
   "cell_type": "markdown",
   "metadata": {},
   "source": [
    "### `collections` Module"
   ]
  },
  {
   "cell_type": "code",
   "execution_count": 55,
   "metadata": {},
   "outputs": [],
   "source": [
    "import collections"
   ]
  },
  {
   "cell_type": "markdown",
   "metadata": {},
   "source": [
    "#### `namedtuple`\n",
    "\n",
    "`namedtuple`s are similar to class objects. Once initialized, this `tuple` variant has keys or attributes that values can be assigned to and called, making indexing such values much easier or more intuitive to call."
   ]
  },
  {
   "cell_type": "code",
   "execution_count": 56,
   "metadata": {},
   "outputs": [],
   "source": [
    "fruit = collections.namedtuple(\"fruit\", \"number variety colour\")"
   ]
  },
  {
   "cell_type": "code",
   "execution_count": 57,
   "metadata": {},
   "outputs": [],
   "source": [
    "guava = fruit(\n",
    "    number=2,\n",
    "    variety=\"Honey Crisp\",\n",
    "    colour=\"green\",\n",
    ")\n",
    "\n",
    "apple = fruit(\n",
    "    number=5,\n",
    "    variety=\"Granny Smith\",\n",
    "    colour=\"red\",\n",
    ")"
   ]
  },
  {
   "cell_type": "code",
   "execution_count": 58,
   "metadata": {},
   "outputs": [
    {
     "name": "stdout",
     "output_type": "stream",
     "text": [
      "green\n",
      "Granny Smith\n"
     ]
    }
   ],
   "source": [
    "# `namedtuples` can be used to assign names to values, unlike Python's built-in `tuple` data type\n",
    "print(guava.colour)\n",
    "print(apple.variety)"
   ]
  },
  {
   "cell_type": "markdown",
   "metadata": {},
   "source": [
    "Notice that `namedtuples` are also a memory-efficient option when defining an immutable `class` in Python."
   ]
  },
  {
   "cell_type": "markdown",
   "metadata": {},
   "source": [
    "#### `Counter`\n",
    "`Counter` is a `dict` subclass used to count hashable objects. The elements are stored as dictionary ***keys*** and the object counts are stored as the ***value***. Initializing objects as a `Counter` gives the user access to various counting operations that can be used on that object."
   ]
  },
  {
   "cell_type": "code",
   "execution_count": 59,
   "metadata": {},
   "outputs": [
    {
     "name": "stdout",
     "output_type": "stream",
     "text": [
      "Counter({'a': 4, 'b': 4, 'c': 4, 'd': 1})\n",
      "['a', 'a', 'a', 'a', 'b', 'b', 'b', 'b', 'c', 'c', 'c', 'c', 'd']\n",
      "[('a', 4), ('b', 4), ('c', 4), ('d', 1)]\n"
     ]
    }
   ],
   "source": [
    "c = collections.Counter('abcabcabcabcd')\n",
    "print(c)\n",
    "\n",
    "print(sorted(c.elements()))\n",
    "print(c.most_common(5))"
   ]
  },
  {
   "cell_type": "code",
   "execution_count": 60,
   "metadata": {},
   "outputs": [
    {
     "name": "stdout",
     "output_type": "stream",
     "text": [
      "Counter({5: 3, 7: 3, 1: 2, 9: 2, 6: 1, 3: 1, 2: 1})\n",
      "[1, 1, 2, 3, 5, 5, 5, 6, 7, 7, 7, 9, 9]\n",
      "[(5, 3), (7, 3), (1, 2), (9, 2), (6, 1)]\n"
     ]
    }
   ],
   "source": [
    "l = [5,6,7,1,3,9,9,1,2,5,5,7,7]\n",
    "c = collections.Counter(l)\n",
    "print(c)\n",
    "\n",
    "print(sorted(c.elements()))\n",
    "print(c.most_common(5))"
   ]
  },
  {
   "cell_type": "code",
   "execution_count": 61,
   "metadata": {},
   "outputs": [
    {
     "name": "stdout",
     "output_type": "stream",
     "text": [
      "Counter({'lazy': 2, 'dog': 2, 'the': 1, 'jumped': 1, 'over': 1, 'another': 1})\n",
      "['another', 'dog', 'dog', 'jumped', 'lazy', 'lazy', 'over', 'the']\n",
      "[('lazy', 2), ('dog', 2), ('the', 1), ('jumped', 1), ('over', 1)]\n"
     ]
    }
   ],
   "source": [
    "s = 'the lazy dog jumped over another lazy dog'\n",
    "words = s.split()\n",
    "c = collections.Counter(words)\n",
    "print(c)\n",
    "\n",
    "print(sorted(c.elements()))\n",
    "print(c.most_common(5))"
   ]
  },
  {
   "cell_type": "markdown",
   "metadata": {},
   "source": [
    "#### `defaultdict`\n",
    "\n",
    "`defaultdict`s allow a user to define keys that do not exist by passing in a data type as it is instantiated. "
   ]
  },
  {
   "cell_type": "code",
   "execution_count": 62,
   "metadata": {},
   "outputs": [
    {
     "name": "stdout",
     "output_type": "stream",
     "text": [
      "0\n"
     ]
    }
   ],
   "source": [
    "nums = collections.defaultdict(int)\n",
    "nums['one'] = 1\n",
    "nums['two'] = 2\n",
    "print(nums['three'])"
   ]
  },
  {
   "cell_type": "code",
   "execution_count": 63,
   "metadata": {},
   "outputs": [
    {
     "name": "stdout",
     "output_type": "stream",
     "text": [
      "defaultdict(<class 'int'>, {'Mike': 5, 'John': 3, 'Anna': 2, 'Britney': 1, 'Smith': 2})\n"
     ]
    }
   ],
   "source": [
    "count = collections.defaultdict(int)\n",
    "names = \"Mike John Mike Anna Mike John John Mike Mike Britney Smith Anna Smith\".split()\n",
    "for name in names:\n",
    "    count[name] += 1\n",
    "print(count)"
   ]
  },
  {
   "cell_type": "markdown",
   "metadata": {},
   "source": [
    "#### `OrderedDict`\n",
    "\n",
    "`OrderedDict` is a dictionary where keys maintain the order in which they are inserted."
   ]
  },
  {
   "cell_type": "code",
   "execution_count": 64,
   "metadata": {},
   "outputs": [
    {
     "name": "stdout",
     "output_type": "stream",
     "text": [
      "OrderedDict([('a', 1), ('b', 2), ('c', 3)])\n",
      "a 1\n",
      "b 2\n",
      "c 3\n"
     ]
    }
   ],
   "source": [
    "od = collections.OrderedDict()\n",
    "od['a'] = 1\n",
    "od['b'] = 2\n",
    "od['c'] = 3\n",
    "print(od)\n",
    "\n",
    "for key, value in od.items():\n",
    "    print(key, value)"
   ]
  },
  {
   "cell_type": "code",
   "execution_count": 65,
   "metadata": {},
   "outputs": [
    {
     "name": "stdout",
     "output_type": "stream",
     "text": [
      "a 4\n",
      "c 3\n",
      "b 2\n"
     ]
    }
   ],
   "source": [
    "# `OrderedDict`s can also be initialized with another dictionary\n",
    "list = [\"a\",\"c\",\"c\",\"a\",\"b\",\"a\",\"a\",\"b\",\"c\"]\n",
    "cnt = collections.Counter(list)\n",
    "od = collections.OrderedDict(cnt.most_common())\n",
    "for key, value in od.items():\n",
    "    print(key, value)"
   ]
  },
  {
   "cell_type": "markdown",
   "metadata": {},
   "source": [
    "#### `deque`\n",
    "\n",
    "A `deque` is a list optimized for inserting and removing items. Naturally, `deque`s take lists as an argument."
   ]
  },
  {
   "cell_type": "code",
   "execution_count": 66,
   "metadata": {},
   "outputs": [
    {
     "name": "stdout",
     "output_type": "stream",
     "text": [
      "deque(['a', 'b', 'c'])\n"
     ]
    }
   ],
   "source": [
    "l = [\"a\", \"b\", \"c\"]\n",
    "deq = collections.deque(l)\n",
    "print(deq)"
   ]
  },
  {
   "cell_type": "code",
   "execution_count": 67,
   "metadata": {},
   "outputs": [
    {
     "name": "stdout",
     "output_type": "stream",
     "text": [
      "deque(['e', 'a', 'b', 'c', 'd'])\n"
     ]
    }
   ],
   "source": [
    "deq.append(\"d\")\n",
    "deq.appendleft(\"e\")\n",
    "print(deq)"
   ]
  },
  {
   "cell_type": "code",
   "execution_count": 68,
   "metadata": {},
   "outputs": [
    {
     "name": "stdout",
     "output_type": "stream",
     "text": [
      "deque(['a', 'b', 'c'])\n"
     ]
    }
   ],
   "source": [
    "deq.pop()\n",
    "deq.popleft()\n",
    "print(deq)"
   ]
  },
  {
   "cell_type": "code",
   "execution_count": 69,
   "metadata": {},
   "outputs": [
    {
     "name": "stdout",
     "output_type": "stream",
     "text": [
      "deque([])\n"
     ]
    }
   ],
   "source": [
    "deq.clear()\n",
    "print(deq)"
   ]
  },
  {
   "cell_type": "code",
   "execution_count": 70,
   "metadata": {},
   "outputs": [
    {
     "name": "stdout",
     "output_type": "stream",
     "text": [
      "1\n"
     ]
    }
   ],
   "source": [
    "l = [\"a\", \"b\", \"c\"]\n",
    "deq = collections.deque(l)\n",
    "print(deq.count(\"b\"))"
   ]
  },
  {
   "cell_type": "markdown",
   "metadata": {},
   "source": [
    "#### `ChainMap`\n",
    "\n",
    "`ChainMap` is used to combine several dictionaries or mappings, and it allows for prioritizing value mappings between duplicate keys. It returns a list of dictionaries."
   ]
  },
  {
   "cell_type": "code",
   "execution_count": 71,
   "metadata": {},
   "outputs": [
    {
     "name": "stdout",
     "output_type": "stream",
     "text": [
      "[{'a': 1, 'b': 2}, {'c': 3, 'b': 4}]\n",
      "1\n"
     ]
    }
   ],
   "source": [
    "dict1 = {\"a\": 1, \"b\": 2}\n",
    "dict2 = {\"c\": 3, \"b\": 4}\n",
    "chain_map = collections.ChainMap(dict1, dict2)\n",
    "print(chain_map.maps)\n",
    "print(chain_map[\"a\"])"
   ]
  },
  {
   "cell_type": "code",
   "execution_count": 72,
   "metadata": {},
   "outputs": [
    {
     "name": "stdout",
     "output_type": "stream",
     "text": [
      "[{'a': 1, 'b': 2}, {'c': 5, 'b': 4}]\n"
     ]
    }
   ],
   "source": [
    "dict2[\"c\"] = 5\n",
    "print(chain_map.maps)"
   ]
  },
  {
   "cell_type": "code",
   "execution_count": 73,
   "metadata": {},
   "outputs": [
    {
     "name": "stdout",
     "output_type": "stream",
     "text": [
      "KeysView(ChainMap({'a': 1, 'b': 2}, {'c': 5, 'b': 4}))\n",
      "ValuesView(ChainMap({'a': 1, 'b': 2}, {'c': 5, 'b': 4}))\n"
     ]
    }
   ],
   "source": [
    "print(chain_map.keys())\n",
    "print(chain_map.values())"
   ]
  },
  {
   "cell_type": "markdown",
   "metadata": {},
   "source": [
    "### Time & Date"
   ]
  },
  {
   "cell_type": "markdown",
   "metadata": {},
   "source": [
    "#### `datetime`"
   ]
  },
  {
   "cell_type": "code",
   "execution_count": 90,
   "metadata": {},
   "outputs": [],
   "source": [
    "from datetime import datetime\n",
    "import calendar"
   ]
  },
  {
   "cell_type": "code",
   "execution_count": 77,
   "metadata": {},
   "outputs": [
    {
     "name": "stdout",
     "output_type": "stream",
     "text": [
      "2024-04-03 14:11:02.905569\n",
      "<class 'datetime.datetime'>\n"
     ]
    }
   ],
   "source": [
    "# get current date\n",
    "dt = datetime.now()\n",
    "print(dt)\n",
    "print(type(dt))"
   ]
  },
  {
   "cell_type": "code",
   "execution_count": 88,
   "metadata": {},
   "outputs": [
    {
     "name": "stdout",
     "output_type": "stream",
     "text": [
      "2019-10-31 00:00:00\n",
      "<class 'datetime.datetime'>\n",
      "Month: \t\t 10\n",
      "Year: \t\t 2019\n",
      "Day: \t\t 31\n",
      "Weekday: \t 3\n"
     ]
    }
   ],
   "source": [
    "date_str = \"2019-10-31\"\n",
    "parsed_date = datetime.strptime(date_str, \"%Y-%m-%d\")\n",
    "print(parsed_date)\n",
    "print(type(parsed_date))\n",
    "print(\"Month: \\t\\t\", parsed_date.month)\n",
    "print(\"Year: \\t\\t\", parsed_date.year)\n",
    "print(\"Day: \\t\\t\", parsed_date.day)\n",
    "print(\"Weekday: \\t\", parsed_date.weekday())"
   ]
  },
  {
   "cell_type": "code",
   "execution_count": 91,
   "metadata": {},
   "outputs": [
    {
     "name": "stdout",
     "output_type": "stream",
     "text": [
      "Thursday\n"
     ]
    }
   ],
   "source": [
    "print(calendar.day_name[parsed_date.weekday()])"
   ]
  }
 ],
 "metadata": {
  "kernelspec": {
   "display_name": "Python 3 (ipykernel)",
   "language": "python",
   "name": "python3"
  },
  "language_info": {
   "codemirror_mode": {
    "name": "ipython",
    "version": 3
   },
   "file_extension": ".py",
   "mimetype": "text/x-python",
   "name": "python",
   "nbconvert_exporter": "python",
   "pygments_lexer": "ipython3",
   "version": "3.11.4"
  }
 },
 "nbformat": 4,
 "nbformat_minor": 4
}
