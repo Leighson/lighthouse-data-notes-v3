{
 "cells": [
  {
   "cell_type": "markdown",
   "metadata": {},
   "source": [
    "# Fundamentals"
   ]
  },
  {
   "cell_type": "code",
   "execution_count": 19,
   "metadata": {},
   "outputs": [
    {
     "data": {
      "text/plain": [
       "'/opt/homebrew/Caskroom/miniforge/base/envs/main-dev/bin/python'"
      ]
     },
     "execution_count": 19,
     "metadata": {},
     "output_type": "execute_result"
    }
   ],
   "source": [
    "import numpy as np\n",
    "import pandas as pd\n",
    "import collections\n",
    "import copy\n",
    "import sys\n",
    "\n",
    "sys.executable"
   ]
  },
  {
   "cell_type": "markdown",
   "metadata": {},
   "source": [
    "## `sed` command\n",
    "\n",
    "`sed` is a text *viewer* and *editor*. It can replace viewing options in the terminal, such as `head`, `tail`, and `cat`.\n",
    "\n",
    "```bash\n",
    "\n",
    "sed \"/s<text-to-replace>/<text-to-insert>/gip\" <filename.text>\n",
    "\n",
    "## `/s` substitutes some text with another\n",
    "## `/gip` tells the terminal to:\n",
    "#### <g> search globally rather than stop at the first instance of the substitution,\n",
    "#### <i> perform a case-insensitive search, and\n",
    "#### <p> print the results to terminal\n",
    "```"
   ]
  },
  {
   "cell_type": "markdown",
   "metadata": {},
   "source": [
    "## Python"
   ]
  },
  {
   "cell_type": "markdown",
   "metadata": {},
   "source": [
    "### `set`\n",
    "\n",
    "`set`s are immutable data types that behave similarly to mathematical sets.\n",
    "- unordered\n",
    "- elements are unique; duplicates are disallowed\n",
    "- may be modified but its elements must be immutable"
   ]
  },
  {
   "cell_type": "code",
   "execution_count": 6,
   "metadata": {},
   "outputs": [
    {
     "name": "stdout",
     "output_type": "stream",
     "text": [
      "3\n",
      "True\n",
      "False\n"
     ]
    }
   ],
   "source": [
    "# example set\n",
    "x = {'foo', 'bar', 'baz'}\n",
    "\n",
    "# set size\n",
    "print(len(x))\n",
    "\n",
    "# set membership\n",
    "print('bar' in x)\n",
    "print('qux' in x)"
   ]
  },
  {
   "cell_type": "markdown",
   "metadata": {},
   "source": [
    "#### Operators & Methods\n",
    "\n",
    "Operators and methods differ in that operators can only be used on sets. On the other hand, methods can take an immutable data type as an argument and automatically convert it to a set before applying the method. Using an operator on a non-set will result in a `TypeError`."
   ]
  },
  {
   "cell_type": "code",
   "execution_count": 10,
   "metadata": {},
   "outputs": [
    {
     "name": "stdout",
     "output_type": "stream",
     "text": [
      "{'baz', 'bar', 'quux', 'qux', 'foo'}\n",
      "{'baz'}\n",
      "{'foo', 'bar'}\n",
      "{'baz', 'bar', 'quux', 'qux', 'foo'}\n",
      "{'baz'}\n",
      "{'foo', 'bar'}\n"
     ]
    }
   ],
   "source": [
    "# example sets\n",
    "x1 = {'foo', 'bar', 'baz'}\n",
    "x2 = {'baz', 'qux', 'quux'}\n",
    "\n",
    "# operators\n",
    "print(x1 | x2)\n",
    "print(x1 & x2)\n",
    "print(x1 - x2)\n",
    "\n",
    "# methods\n",
    "print(x1.union(x2))\n",
    "print(x1.intersection(x2))\n",
    "print(x1.difference(x2))"
   ]
  },
  {
   "cell_type": "markdown",
   "metadata": {},
   "source": [
    "### Copy, Shallow Copy, & Deep Copy\n",
    "\n",
    "**Copy**: the `=` operator creates a reference of the object being copied."
   ]
  },
  {
   "cell_type": "code",
   "execution_count": 11,
   "metadata": {},
   "outputs": [
    {
     "name": "stdout",
     "output_type": "stream",
     "text": [
      "Old List: [[1, 2, 3], [4, 5, 6], [7, 8, 9]]\n",
      "ID of Old List: 4559624192\n",
      "New List: [[1, 2, 3], [4, 5, 6], [7, 8, 9]]\n",
      "ID of New List: 4559624192\n"
     ]
    }
   ],
   "source": [
    "old_list = [[1, 2, 3], [4, 5, 6], [7, 8, 'a']]\n",
    "new_list = old_list\n",
    "\n",
    "new_list[2][2] = 9\n",
    "\n",
    "print('Old List:', old_list)\n",
    "print('ID of Old List:', id(old_list))\n",
    "\n",
    "print('New List:', new_list)\n",
    "print('ID of New List:', id(new_list))"
   ]
  },
  {
   "cell_type": "markdown",
   "metadata": {},
   "source": [
    "**Shallow Copy**: the `copy.copy()` method copies the object but recursively references the objects within."
   ]
  },
  {
   "cell_type": "code",
   "execution_count": 16,
   "metadata": {},
   "outputs": [
    {
     "name": "stdout",
     "output_type": "stream",
     "text": [
      "Old list: [[1, 1, 1], [2, 2, 2], [3, 3, 3], [4, 4, 4]]\n",
      "New list: [[1, 1, 1], [2, 2, 2], [3, 3, 3]]\n",
      "Old list: [[1, 1, 1], [2, 'AA', 2], [3, 3, 3], [4, 4, 4]]\n",
      "New list: [[1, 1, 1], [2, 'AA', 2], [3, 3, 3]]\n"
     ]
    }
   ],
   "source": [
    "old_list = [[1, 1, 1], [2, 2, 2], [3, 3, 3]]\n",
    "new_list = copy.copy(old_list)\n",
    "\n",
    "# appending a new nested object\n",
    "old_list.append([4, 4, 4])\n",
    "\n",
    "print(\"Old list:\", old_list)\n",
    "print(\"New list:\", new_list)\n",
    "\n",
    "# changing a nested object\n",
    "old_list[1][1] = 'AA'\n",
    "\n",
    "print(\"Old list:\", old_list)\n",
    "print(\"New list:\", new_list)"
   ]
  },
  {
   "cell_type": "markdown",
   "metadata": {},
   "source": [
    "\n",
    "**Deep Copy**: the `copy.deepcopy()` method copies the object and all nested objects recursively."
   ]
  },
  {
   "cell_type": "code",
   "execution_count": 18,
   "metadata": {},
   "outputs": [
    {
     "name": "stdout",
     "output_type": "stream",
     "text": [
      "Old list: [[1, 1, 1], ['BB', 2, 2], [3, 3, 3]]\n",
      "New list: [[1, 1, 1], [2, 2, 2], [3, 3, 3]]\n"
     ]
    }
   ],
   "source": [
    "old_list = [[1, 1, 1], [2, 2, 2], [3, 3, 3]]\n",
    "new_list = copy.deepcopy(old_list)\n",
    "\n",
    "# changing a nested object\n",
    "old_list[1][0] = 'BB'\n",
    "\n",
    "print(\"Old list:\", old_list)\n",
    "print(\"New list:\", new_list)"
   ]
  },
  {
   "cell_type": "markdown",
   "metadata": {},
   "source": [
    "### `collections` Module"
   ]
  },
  {
   "cell_type": "markdown",
   "metadata": {},
   "source": [
    "#### `namedtuple`"
   ]
  },
  {
   "cell_type": "code",
   "execution_count": 20,
   "metadata": {},
   "outputs": [],
   "source": [
    "fruit = collections.namedtuple(\"fruit\", \"number variety colour\")"
   ]
  },
  {
   "cell_type": "code",
   "execution_count": 21,
   "metadata": {},
   "outputs": [],
   "source": [
    "guava = fruit(\n",
    "    number=2,\n",
    "    variety=\"Honey Crisp\",\n",
    "    colour=\"green\",\n",
    ")\n",
    "\n",
    "apple = fruit(\n",
    "    number=5,\n",
    "    variety=\"Granny Smith\",\n",
    "    colour=\"red\",\n",
    ")"
   ]
  },
  {
   "cell_type": "code",
   "execution_count": 24,
   "metadata": {},
   "outputs": [
    {
     "name": "stdout",
     "output_type": "stream",
     "text": [
      "green\n",
      "Granny Smith\n"
     ]
    }
   ],
   "source": [
    "# `namedtuples` can be used to assign names to values, unlike Python's built-in `tuple` data type\n",
    "print(guava.colour)\n",
    "print(apple.variety)"
   ]
  },
  {
   "cell_type": "markdown",
   "metadata": {},
   "source": [
    "Notice that `namedtuples` are also a memory-efficient option when defining an immutable `class` in Python."
   ]
  },
  {
   "cell_type": "markdown",
   "metadata": {},
   "source": [
    "#### `Counter`"
   ]
  },
  {
   "cell_type": "markdown",
   "metadata": {},
   "source": [
    "`Counter` is a `dict` subclass used to count hashable objects. The elements are stored as dictionary ***keys*** and the object counts are stored as the ***value***."
   ]
  },
  {
   "cell_type": "code",
   "execution_count": 38,
   "metadata": {},
   "outputs": [
    {
     "name": "stdout",
     "output_type": "stream",
     "text": [
      "Counter({'a': 4, 'b': 4, 'c': 4, 'd': 1})\n",
      "['a', 'a', 'a', 'a', 'b', 'b', 'b', 'b', 'c', 'c', 'c', 'c', 'd']\n",
      "[('a', 4), ('b', 4), ('c', 4), ('d', 1)]\n"
     ]
    }
   ],
   "source": [
    "c = collections.Counter('abcabcabcabcd')\n",
    "print(c)\n",
    "\n",
    "print(sorted(c.elements()))\n",
    "print(c.most_common(5))"
   ]
  },
  {
   "cell_type": "code",
   "execution_count": 39,
   "metadata": {},
   "outputs": [
    {
     "name": "stdout",
     "output_type": "stream",
     "text": [
      "Counter({5: 3, 7: 3, 1: 2, 9: 2, 6: 1, 3: 1, 2: 1})\n",
      "[1, 1, 2, 3, 5, 5, 5, 6, 7, 7, 7, 9, 9]\n",
      "[(5, 3), (7, 3), (1, 2), (9, 2), (6, 1)]\n"
     ]
    }
   ],
   "source": [
    "l = [5,6,7,1,3,9,9,1,2,5,5,7,7]\n",
    "c = collections.Counter(l)\n",
    "print(c)\n",
    "\n",
    "print(sorted(c.elements()))\n",
    "print(c.most_common(5))"
   ]
  },
  {
   "cell_type": "code",
   "execution_count": 40,
   "metadata": {},
   "outputs": [
    {
     "name": "stdout",
     "output_type": "stream",
     "text": [
      "Counter({'lazy': 2, 'dog': 2, 'the': 1, 'jumped': 1, 'over': 1, 'another': 1})\n",
      "['another', 'dog', 'dog', 'jumped', 'lazy', 'lazy', 'over', 'the']\n",
      "[('lazy', 2), ('dog', 2), ('the', 1), ('jumped', 1), ('over', 1)]\n"
     ]
    }
   ],
   "source": [
    "s = 'the lazy dog jumped over another lazy dog'\n",
    "words = s.split()\n",
    "c = collections.Counter(words)\n",
    "print(c)\n",
    "\n",
    "print(sorted(c.elements()))\n",
    "print(c.most_common(5))"
   ]
  },
  {
   "cell_type": "code",
   "execution_count": null,
   "metadata": {},
   "outputs": [],
   "source": []
  }
 ],
 "metadata": {
  "kernelspec": {
   "display_name": "Python 3 (ipykernel)",
   "language": "python",
   "name": "python3"
  },
  "language_info": {
   "codemirror_mode": {
    "name": "ipython",
    "version": 3
   },
   "file_extension": ".py",
   "mimetype": "text/x-python",
   "name": "python",
   "nbconvert_exporter": "python",
   "pygments_lexer": "ipython3",
   "version": "3.11.4"
  }
 },
 "nbformat": 4,
 "nbformat_minor": 4
}
