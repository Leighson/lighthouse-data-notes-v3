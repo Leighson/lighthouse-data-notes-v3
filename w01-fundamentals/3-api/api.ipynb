{
 "cells": [
  {
   "cell_type": "markdown",
   "metadata": {},
   "source": [
    "# APIs"
   ]
  },
  {
   "cell_type": "code",
   "execution_count": 21,
   "metadata": {},
   "outputs": [],
   "source": [
    "import requests as re\n",
    "import dotenv\n",
    "import pprint\n",
    "import os\n",
    "\n",
    "fsq_api_key = dotenv.dotenv_values()[\"FSQ_API_KEY\"]\n",
    "\n",
    "url = \"https://api.foursquare.com/v3/places/search\"\n",
    "headers = {\n",
    "    \"accept\": \"application/json\",\n",
    "    \"Authorization\": fsq_api_key,\n",
    "}\n",
    "params = {\n",
    "    \"query\": \"coffee\",\n",
    "    \"exclude_all_chains\": True,\n",
    "    \"near\": \"Toronto, ON\",\n",
    "    \"sort\": \"rating\",\n",
    "}"
   ]
  },
  {
   "cell_type": "code",
   "execution_count": 22,
   "metadata": {},
   "outputs": [],
   "source": [
    "response = re.get(url, headers=headers, params=params)\n",
    "\n",
    "with open(\"fsq.json\", \"w\") as f:\n",
    "    f.write(response.text)"
   ]
  }
 ],
 "metadata": {
  "kernelspec": {
   "display_name": "main-dev",
   "language": "python",
   "name": "python3"
  },
  "language_info": {
   "codemirror_mode": {
    "name": "ipython",
    "version": 3
   },
   "file_extension": ".py",
   "mimetype": "text/x-python",
   "name": "python",
   "nbconvert_exporter": "python",
   "pygments_lexer": "ipython3",
   "version": "3.11.4"
  }
 },
 "nbformat": 4,
 "nbformat_minor": 2
}
