{
 "cells": [
  {
   "cell_type": "markdown",
   "metadata": {},
   "source": [
    "# APIs"
   ]
  },
  {
   "cell_type": "code",
   "execution_count": 21,
   "metadata": {},
   "outputs": [],
   "source": [
    "import requests as re\n",
    "import dotenv\n",
    "\n",
    "fsq_api_key = dotenv.dotenv_values()[\"FSQ_API_KEY\"]\n",
    "\n",
    "url = \"https://api.foursquare.com/v3/places/search\"\n",
    "headers = {\n",
    "    \"accept\": \"application/json\",\n",
    "    \"Authorization\": fsq_api_key,\n",
    "}\n",
    "params = {\n",
    "    \"query\": \"coffee\",\n",
    "    \"exclude_all_chains\": True,\n",
    "    \"near\": \"Toronto, ON\",\n",
    "    \"sort\": \"rating\",\n",
    "}"
   ]
  },
  {
   "cell_type": "code",
   "execution_count": 22,
   "metadata": {},
   "outputs": [],
   "source": [
    "try:\n",
    "    response = re.get(url, headers=headers, params=params, timeout=(3,5))\n",
    "    response.raise_for_status()\n",
    "except re.exceptions.Timeout as timeout:\n",
    "    print(\"The request timed out.\")\n",
    "except re.exceptions.HTTPError as http_error:\n",
    "    print(f\"HTTPError: {http_error}\")\n",
    "else:\n",
    "    print(f\"Success!\")\n",
    "    with open(\"fsq.json\", \"w\") as f:\n",
    "        f.write(response.text)"
   ]
  }
 ],
 "metadata": {
  "kernelspec": {
   "display_name": "main-dev",
   "language": "python",
   "name": "python3"
  },
  "language_info": {
   "codemirror_mode": {
    "name": "ipython",
    "version": 3
   },
   "file_extension": ".py",
   "mimetype": "text/x-python",
   "name": "python",
   "nbconvert_exporter": "python",
   "pygments_lexer": "ipython3",
   "version": "3.11.4"
  }
 },
 "nbformat": 4,
 "nbformat_minor": 2
}
